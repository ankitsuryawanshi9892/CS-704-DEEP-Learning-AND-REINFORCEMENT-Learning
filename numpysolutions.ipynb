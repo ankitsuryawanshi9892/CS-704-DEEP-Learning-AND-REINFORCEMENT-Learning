{
 "cells": [
  {
   "cell_type": "code",
   "execution_count": 2,
   "id": "0fd55b98",
   "metadata": {},
   "outputs": [],
   "source": [
    "# import numpy\n",
    "import numpy as np"
   ]
  },
  {
   "cell_type": "code",
   "execution_count": 3,
   "id": "c90c36f0",
   "metadata": {},
   "outputs": [
    {
     "data": {
      "text/plain": [
       "array([0.        , 0.11111111, 0.22222222, 0.33333333, 0.44444444,\n",
       "       0.55555556, 0.66666667, 0.77777778, 0.88888889, 1.        ])"
      ]
     },
     "execution_count": 3,
     "metadata": {},
     "output_type": "execute_result"
    }
   ],
   "source": [
    "#Create an array with 10 equally spaced numbers between 0 and 1.\n",
    "arr = np.linspace(0,1,10)\n",
    "arr"
   ]
  },
  {
   "cell_type": "code",
   "execution_count": 4,
   "id": "3b6bc40d",
   "metadata": {},
   "outputs": [],
   "source": [
    "#Create a 1D array of 20 random integers between 1 and 100."
   ]
  },
  {
   "cell_type": "code",
   "execution_count": 5,
   "id": "76dd678f",
   "metadata": {},
   "outputs": [
    {
     "data": {
      "text/plain": [
       "array([27, 21, 39, 45, 54, 21, 39, 33, 48, 26, 89, 70, 45, 49, 57, 91, 73,\n",
       "       59, 11, 59])"
      ]
     },
     "execution_count": 5,
     "metadata": {},
     "output_type": "execute_result"
    }
   ],
   "source": [
    "array2 = np.random.randint(1,100,20)\n",
    "array2"
   ]
  },
  {
   "cell_type": "code",
   "execution_count": 6,
   "id": "c2e8ff81",
   "metadata": {},
   "outputs": [
    {
     "data": {
      "text/plain": [
       "array([[7, 7, 7, 7],\n",
       "       [7, 7, 7, 7],\n",
       "       [7, 7, 7, 7],\n",
       "       [7, 7, 7, 7]])"
      ]
     },
     "execution_count": 6,
     "metadata": {},
     "output_type": "execute_result"
    }
   ],
   "source": [
    "#Create a 2D array with the shape (4, 4) filled with the value 7.\n",
    "arr_2d = np.full((4,4),7)\n",
    "arr_2d\n"
   ]
  },
  {
   "cell_type": "code",
   "execution_count": 7,
   "id": "cce323ab",
   "metadata": {},
   "outputs": [
    {
     "data": {
      "text/plain": [
       "array([3.14, 3.14, 3.14, 3.14, 3.14, 3.14, 3.14, 3.14, 3.14, 3.14])"
      ]
     },
     "execution_count": 7,
     "metadata": {},
     "output_type": "execute_result"
    }
   ],
   "source": [
    "#Create a 1D array of 10 elements with the same value, 3.14.\n",
    "arr_1d = np.full(10,3.14)\n",
    "arr_1d"
   ]
  },
  {
   "cell_type": "code",
   "execution_count": 8,
   "id": "be282dc8",
   "metadata": {},
   "outputs": [
    {
     "data": {
      "text/plain": [
       "array([[1, 2, 3],\n",
       "       [4, 5, 6],\n",
       "       [7, 8, 9]])"
      ]
     },
     "execution_count": 8,
     "metadata": {},
     "output_type": "execute_result"
    }
   ],
   "source": [
    "#Create a 2D array with the shape (3, 3) with values ranging from 1 to 9.\n",
    "arr3 = np.arange(1,10)\n",
    "\n",
    "arr3_2d = arr3.reshape(3,3)\n",
    "arr3_2d"
   ]
  },
  {
   "cell_type": "code",
   "execution_count": 10,
   "id": "c127e95a",
   "metadata": {},
   "outputs": [
    {
     "data": {
      "text/plain": [
       "array([-1, -1, -1, -1, -1])"
      ]
     },
     "execution_count": 10,
     "metadata": {},
     "output_type": "execute_result"
    }
   ],
   "source": [
    "#Create two arrays: a = [1, 3, 5, 7, 9] and b = [2, 4, 6, 8, 10]. Perform element-wise subtraction.\n",
    "a = np.array([1, 3, 5, 7, 9])\n",
    "b = np.array([2, 4, 6, 8, 10])\n",
    "sub = a-b\n",
    "sub\n"
   ]
  },
  {
   "cell_type": "code",
   "execution_count": 11,
   "id": "38318ea6",
   "metadata": {},
   "outputs": [
    {
     "data": {
      "text/plain": [
       "array([ 6, 12, 18, 24])"
      ]
     },
     "execution_count": 11,
     "metadata": {},
     "output_type": "execute_result"
    }
   ],
   "source": [
    "#Multiply array a by 3: a = [2, 4, 6, 8].\n",
    "a = np.array([2,4,6,8])\n",
    "prod = a*3\n",
    "prod"
   ]
  },
  {
   "cell_type": "code",
   "execution_count": 12,
   "id": "1128069d",
   "metadata": {},
   "outputs": [
    {
     "name": "stdout",
     "output_type": "stream",
     "text": [
      "Original array a: [10 20 30 40]\n",
      "Result after dividing by 2: [ 5. 10. 15. 20.]\n"
     ]
    }
   ],
   "source": [
    "#Divide array a by 2: a = [10, 20, 30, 40].\n",
    "\n",
    "a = np.array([10, 20, 30, 40])\n",
    "\n",
    "\n",
    "result = a / 2\n",
    "\n",
    "print(\"Original array a:\", a)\n",
    "print(\"Result after dividing by 2:\", result)"
   ]
  },
  {
   "cell_type": "code",
   "execution_count": 13,
   "id": "676d32e4",
   "metadata": {},
   "outputs": [
    {
     "name": "stdout",
     "output_type": "stream",
     "text": [
      "Array a: [ 5 10 15]\n",
      "Array b: [2 3 4]\n",
      "Element-wise modulus: [1 1 3]\n"
     ]
    }
   ],
   "source": [
    "#Find the element-wise modulus of two arrays: a = [5, 10, 15], b = [2, 3, 4].\n",
    "\n",
    "a = np.array([5, 10, 15])\n",
    "b = np.array([2, 3, 4])\n",
    "\n",
    "result = np.remainder(a, b)\n",
    "\n",
    "print(\"Array a:\", a)\n",
    "print(\"Array b:\", b)\n",
    "print(\"Element-wise modulus:\", result)"
   ]
  },
  {
   "cell_type": "code",
   "execution_count": 14,
   "id": "740b6c23",
   "metadata": {},
   "outputs": [
    {
     "name": "stdout",
     "output_type": "stream",
     "text": [
      "Array a: [1 2 3]\n",
      "Array b: [4 5 6]\n",
      "Dot product: 32\n"
     ]
    }
   ],
   "source": [
    "#Create two arrays: a = [1, 2, 3], b = [4, 5, 6]. Compute the dot product.\n",
    "\n",
    "a = np.array([1, 2, 3])\n",
    "b = np.array([4, 5, 6])\n",
    "\n",
    "dot_product = np.dot(a, b)\n",
    "\n",
    "print(\"Array a:\", a)\n",
    "print(\"Array b:\", b)\n",
    "print(\"Dot product:\", dot_product)"
   ]
  },
  {
   "cell_type": "code",
   "execution_count": 15,
   "id": "02bbe6a5",
   "metadata": {},
   "outputs": [
    {
     "name": "stdout",
     "output_type": "stream",
     "text": [
      "Matrix a:\n",
      " [[2 3]\n",
      " [4 5]]\n",
      "Matrix b:\n",
      " [[1 0]\n",
      " [0 1]]\n",
      "Result of matrix multiplication:\n",
      " [[2 3]\n",
      " [4 5]]\n"
     ]
    }
   ],
   "source": [
    "#Create two matrices: a = [[2, 3], [4, 5]] and b = [[1, 0], [0, 1]]. Perform matrix multiplication.\n",
    "\n",
    "a = np.array([[2, 3], [4, 5]])\n",
    "b = np.array([[1, 0], [0, 1]])\n",
    "\n",
    "result = np.matmul(a, b)\n",
    "\n",
    "\n",
    "print(\"Matrix a:\\n\", a)\n",
    "print(\"Matrix b:\\n\", b)\n",
    "print(\"Result of matrix multiplication:\\n\", result)"
   ]
  },
  {
   "cell_type": "code",
   "execution_count": 17,
   "id": "2af5ecff",
   "metadata": {},
   "outputs": [
    {
     "name": "stdout",
     "output_type": "stream",
     "text": [
      "Matrix:\n",
      " [[1 2 3]\n",
      " [4 5 6]\n",
      " [7 8 9]]\n",
      "Vector:\n",
      " [1 2 3]\n",
      "Result of matrix-vector multiplication:\n",
      " [14 32 50]\n"
     ]
    }
   ],
   "source": [
    "#Multiply a 3x3 matrix with a 3x1 vector.\n",
    "\n",
    "matrix = np.array([[1, 2, 3],\n",
    "                   [4, 5, 6],\n",
    "                   [7, 8, 9]])\n",
    "\n",
    "vector = np.array([1, 2, 3])\n",
    "\n",
    "result = np.matmul(matrix, vector)\n",
    "\n",
    "print(\"Matrix:\\n\", matrix)\n",
    "print(\"Vector:\\n\", vector)\n",
    "print(\"Result of matrix-vector multiplication:\\n\", result)"
   ]
  },
  {
   "cell_type": "code",
   "execution_count": 18,
   "id": "9227c31e",
   "metadata": {},
   "outputs": [
    {
     "name": "stdout",
     "output_type": "stream",
     "text": [
      "Identity Matrix:\n",
      " [[1. 0. 0. 0.]\n",
      " [0. 1. 0. 0.]\n",
      " [0. 0. 1. 0.]\n",
      " [0. 0. 0. 1.]]\n",
      "\n",
      "Random Matrix:\n",
      " [[0 8 5 0]\n",
      " [8 4 1 2]\n",
      " [3 6 2 8]\n",
      " [0 5 6 9]]\n",
      "\n",
      "Result of matrix multiplication:\n",
      " [[0. 8. 5. 0.]\n",
      " [8. 4. 1. 2.]\n",
      " [3. 6. 2. 8.]\n",
      " [0. 5. 6. 9.]]\n"
     ]
    }
   ],
   "source": [
    "#Create a 4x4 identity matrix and multiply it by a 4x4 matrix filled with random integers.\n",
    "\n",
    "\n",
    "\n",
    "# Create a 4x4 identity matrix\n",
    "identity_matrix = np.eye(4)\n",
    "\n",
    "# Create a 4x4 matrix with random integers (between 0 and 9 for example)\n",
    "random_matrix = np.random.randint(0, 10, size=(4, 4))\n",
    "\n",
    "# Perform matrix multiplication\n",
    "result = np.matmul(identity_matrix, random_matrix)\n",
    "\n",
    "print(\"Identity Matrix:\\n\", identity_matrix)\n",
    "print(\"\\nRandom Matrix:\\n\", random_matrix)\n",
    "print(\"\\nResult of matrix multiplication:\\n\", result)"
   ]
  },
  {
   "cell_type": "code",
   "execution_count": 19,
   "id": "fde0275c",
   "metadata": {},
   "outputs": [
    {
     "name": "stdout",
     "output_type": "stream",
     "text": [
      "Matrix a:\n",
      " [[1 2 3]\n",
      " [4 5 6]\n",
      " [7 8 9]]\n",
      "\n",
      "Matrix b:\n",
      " [[9 8 7]\n",
      " [6 5 4]\n",
      " [3 2 1]]\n",
      "\n",
      "Result of matrix multiplication:\n",
      " [[ 30  24  18]\n",
      " [ 84  69  54]\n",
      " [138 114  90]]\n"
     ]
    }
   ],
   "source": [
    "#Perform matrix multiplication on two 3x3 matrices: a = [[1, 2, 3], [4, 5, 6], [7, 8, 9]] and b = [[9, 8, 7], [6, 5, 4], [3, 2, 1]].\n",
    "\n",
    "a = np.array([[1, 2, 3],\n",
    "              [4, 5, 6],\n",
    "              [7, 8, 9]])\n",
    "\n",
    "b = np.array([[9, 8, 7],\n",
    "              [6, 5, 4],\n",
    "              [3, 2, 1]])\n",
    "\n",
    "result = np.matmul(a, b)\n",
    "\n",
    "print(\"Matrix a:\\n\", a)\n",
    "print(\"\\nMatrix b:\\n\", b)\n",
    "print(\"\\nResult of matrix multiplication:\\n\", result)"
   ]
  },
  {
   "cell_type": "code",
   "execution_count": 20,
   "id": "b76ee3dc",
   "metadata": {},
   "outputs": [
    {
     "name": "stdout",
     "output_type": "stream",
     "text": [
      "Matrix a:\n",
      " [[1 2 3]\n",
      " [4 5 6]]\n",
      "\n",
      "Matrix b:\n",
      " [[ 7  8]\n",
      " [ 9 10]\n",
      " [11 12]]\n",
      "\n",
      "Result of matrix multiplication:\n",
      " [[ 58  64]\n",
      " [139 154]]\n"
     ]
    }
   ],
   "source": [
    "#Create a 2x3 matrix and a 3x2 matrix. Perform matrix multiplication.\n",
    "\n",
    "matrix_a = np.array([[1, 2, 3],\n",
    "                     [4, 5, 6]])\n",
    "\n",
    "matrix_b = np.array([[7, 8],\n",
    "                     [9, 10],\n",
    "                     [11, 12]])\n",
    "\n",
    "result = np.matmul(matrix_a, matrix_b)\n",
    "\n",
    "print(\"Matrix a:\\n\", matrix_a)\n",
    "print(\"\\nMatrix b:\\n\", matrix_b)\n",
    "print(\"\\nResult of matrix multiplication:\\n\", result)"
   ]
  },
  {
   "cell_type": "code",
   "execution_count": 21,
   "id": "a8e8a5de",
   "metadata": {},
   "outputs": [
    {
     "data": {
      "text/plain": [
       "array([ 5, 15, 25])"
      ]
     },
     "execution_count": 21,
     "metadata": {},
     "output_type": "execute_result"
    }
   ],
   "source": [
    "#Create a 1D array: array = [10, 20, 30]. Subtract a scalar value, 5, using broadcasting.\n",
    "\n",
    "array = np.array([10, 20, 30])\n",
    "\n",
    "\n",
    "result = array - 5\n",
    "\n",
    "result"
   ]
  },
  {
   "cell_type": "code",
   "execution_count": 22,
   "id": "62aa0359",
   "metadata": {},
   "outputs": [
    {
     "name": "stdout",
     "output_type": "stream",
     "text": [
      "[[ 2  3  4]\n",
      " [ 6  7  8]\n",
      " [10 11 12]]\n"
     ]
    }
   ],
   "source": [
    "#Create a 3x3 array and a 3x1 array. Add them using broadcasting.\n",
    "\n",
    "array_3x3 = np.array([[1, 2, 3],\n",
    "                      [4, 5, 6],\n",
    "                      [7, 8, 9]])\n",
    "\n",
    "\n",
    "array_3x1 = np.array([[1],\n",
    "                      [2],\n",
    "                      [3]])\n",
    "\n",
    "\n",
    "result = array_3x3 + array_3x1\n",
    "\n",
    "print(result)\n"
   ]
  },
  {
   "cell_type": "code",
   "execution_count": 23,
   "id": "4c0a4728",
   "metadata": {},
   "outputs": [
    {
     "name": "stdout",
     "output_type": "stream",
     "text": [
      "[[ 4  5  6]\n",
      " [ 7  8  9]\n",
      " [10 11 12]]\n"
     ]
    }
   ],
   "source": [
    "#Create a 3x3 array and add 3 to each element using broadcasting.\n",
    "\n",
    "array_3x3 = np.array([[1, 2, 3],\n",
    "                      [4, 5, 6],\n",
    "                      [7, 8, 9]])\n",
    "\n",
    "result = array_3x3 + 3\n",
    "\n",
    "print(result)"
   ]
  },
  {
   "cell_type": "code",
   "execution_count": 25,
   "id": "46be577d",
   "metadata": {},
   "outputs": [
    {
     "name": "stdout",
     "output_type": "stream",
     "text": [
      "[[  1   4   9  16  25]\n",
      " [  6  14  24  36  50]\n",
      " [ 11  24  39  56  75]\n",
      " [ 16  34  54  76 100]\n",
      " [ 21  44  69  96 125]]\n"
     ]
    }
   ],
   "source": [
    "#Multiply a 1D array of shape (5,) by a 2D array of shape (5, 5) using broadcasting.\n",
    "\n",
    "array_1d = np.array([1, 2, 3, 4, 5])\n",
    "\n",
    "\n",
    "array_2d = np.array([[1, 2, 3, 4, 5],\n",
    "                     [6, 7, 8, 9, 10],\n",
    "                     [11, 12, 13, 14, 15],\n",
    "                     [16, 17, 18, 19, 20],\n",
    "                     [21, 22, 23, 24, 25]])\n",
    "\n",
    "\n",
    "result = array_2d * array_1d\n",
    "\n",
    "print(result)"
   ]
  },
  {
   "cell_type": "code",
   "execution_count": 26,
   "id": "e0bf05cb",
   "metadata": {},
   "outputs": [
    {
     "name": "stdout",
     "output_type": "stream",
     "text": [
      "Median of the array: 5.5\n"
     ]
    }
   ],
   "source": [
    "#Calculate the median of the array: data = [1, 2, 3, 4, 5, 6, 7, 8, 9, 10].\n",
    "\n",
    "data = np.array([1, 2, 3, 4, 5, 6, 7, 8, 9, 10])\n",
    "\n",
    "\n",
    "median_value = np.median(data)\n",
    "\n",
    "print(\"Median of the array:\", median_value)"
   ]
  },
  {
   "cell_type": "code",
   "execution_count": 30,
   "id": "37441e2f",
   "metadata": {},
   "outputs": [
    {
     "name": "stdout",
     "output_type": "stream",
     "text": [
      "4\n"
     ]
    }
   ],
   "source": [
    "#Calculate the mode of the array: data = [1, 2, 2, 3, 4, 4, 4, 5, 6].\n",
    "\n",
    "\n",
    "\n",
    "# Create the data array\n",
    "data = np.array([1, 2, 2, 3, 4, 4, 4, 5, 6])\n",
    "\n",
    "# Calculate the mode using np.argmax\n",
    "# Find the most frequent value's index\n",
    "most_frequent_idx = np.argmax(np.bincount(data))\n",
    "\n",
    "# Get the mode value from the data array\n",
    "mode = data[most_frequent_idx]\n",
    "\n",
    "\n",
    "# Print the mode\n",
    "print(mode)"
   ]
  },
  {
   "cell_type": "code",
   "execution_count": 31,
   "id": "a62a3f96",
   "metadata": {},
   "outputs": [
    {
     "name": "stdout",
     "output_type": "stream",
     "text": [
      "Range of the array: 40\n"
     ]
    }
   ],
   "source": [
    "#Calculate the range of the array: data = [10, 20, 30, 40, 50].\n",
    "\n",
    "data = np.array([10, 20, 30, 40, 50])\n",
    "\n",
    "# Calculate the range\n",
    "range_value = np.max(data) - np.min(data)\n",
    "\n",
    "print(\"Range of the array:\", range_value)"
   ]
  },
  {
   "cell_type": "code",
   "execution_count": 32,
   "id": "bc5497ac",
   "metadata": {},
   "outputs": [
    {
     "name": "stdout",
     "output_type": "stream",
     "text": [
      "25th percentile of the array: 3.25\n"
     ]
    }
   ],
   "source": [
    "#Calculate the 25th percentile of the array: data = [1, 2, 3, 4, 5, 6, 7, 8, 9, 10].\n",
    "\n",
    "data = np.array([1, 2, 3, 4, 5, 6, 7, 8, 9, 10])\n",
    "\n",
    "# Calculate the 25th percentile\n",
    "percentile_25 = np.percentile(data, 25)\n",
    "\n",
    "print(\"25th percentile of the array:\", percentile_25)"
   ]
  },
  {
   "cell_type": "code",
   "execution_count": 33,
   "id": "84efb28d",
   "metadata": {},
   "outputs": [
    {
     "name": "stdout",
     "output_type": "stream",
     "text": [
      "Correlation coefficient between arrays a and b: 0.9999999999999999\n"
     ]
    }
   ],
   "source": [
    "#Calculate the correlation coefficient between two arrays: a = [1, 2, 3, 4, 5] and b = [2, 4, 6, 8, 10].\n",
    "\n",
    "a = np.array([1, 2, 3, 4, 5])\n",
    "b = np.array([2, 4, 6, 8, 10])\n",
    "\n",
    "\n",
    "correlation_matrix = np.corrcoef(a, b)\n",
    "correlation_coefficient = correlation_matrix[0, 1]\n",
    "\n",
    "print(\"Correlation coefficient between arrays a and b:\", correlation_coefficient)\n"
   ]
  },
  {
   "cell_type": "code",
   "execution_count": 34,
   "id": "ee89dcaf",
   "metadata": {},
   "outputs": [
    {
     "name": "stdout",
     "output_type": "stream",
     "text": [
      "3x4 array:\n",
      " [[ 0  1  2  3]\n",
      " [ 4  5  6  7]\n",
      " [ 8  9 10 11]]\n"
     ]
    }
   ],
   "source": [
    "#Reshape a 1D array of 12 elements to a 3x4 array.\n",
    "\n",
    "array_1d = np.arange(12)  # Example array: [0, 1, 2, 3, 4, 5, 6, 7, 8, 9, 10, 11]\n",
    "\n",
    "\n",
    "array_2d = array_1d.reshape(3, 4)\n",
    "\n",
    "print(\"3x4 array:\\n\", array_2d)"
   ]
  },
  {
   "cell_type": "code",
   "execution_count": 35,
   "id": "976a92a3",
   "metadata": {},
   "outputs": [
    {
     "name": "stdout",
     "output_type": "stream",
     "text": [
      "Reshaped array (3x4):\n",
      " [[ 0  1  2  3]\n",
      " [ 4  5  6  7]\n",
      " [ 8  9 10 11]]\n"
     ]
    }
   ],
   "source": [
    "#Reshape a 2D array of shape (6, 2) to (3, 4).\n",
    "\n",
    "\n",
    "array_2d_6x2 = np.arange(12).reshape(6, 2)  # Example array: [[0, 1], [2, 3], [4, 5], [6, 7], [8, 9], [10, 11]]\n",
    "\n",
    "# Reshape the 2D array to (3, 4)\n",
    "array_reshaped = array_2d_6x2.reshape(3, 4)\n",
    "\n",
    "print(\"Reshaped array (3x4):\\n\", array_reshaped)"
   ]
  },
  {
   "cell_type": "code",
   "execution_count": 37,
   "id": "d3942310",
   "metadata": {},
   "outputs": [
    {
     "name": "stdout",
     "output_type": "stream",
     "text": [
      "Flattened array:\n",
      " [ 0  1  2  3  4  5  6  7  8  9 10 11 12 13 14 15]\n"
     ]
    }
   ],
   "source": [
    "#Create a 4x4 array and flatten it.\n",
    "\n",
    "array_4x4 = np.arange(16).reshape(4, 4)  # Example array: [[0, 1, 2, 3], [4, 5, 6, 7], [8, 9, 10, 11], [12, 13, 14, 15]]\n",
    "\n",
    "flattened_array = array_4x4.reshape(16,)\n",
    "\n",
    "print(\"Flattened array:\\n\", flattened_array)"
   ]
  },
  {
   "cell_type": "code",
   "execution_count": 38,
   "id": "e8578e41",
   "metadata": {},
   "outputs": [
    {
     "name": "stdout",
     "output_type": "stream",
     "text": [
      "Reshaped array (4, 3, 2):\n",
      " [[[ 0  1]\n",
      "  [ 2  3]\n",
      "  [ 4  5]]\n",
      "\n",
      " [[ 6  7]\n",
      "  [ 8  9]\n",
      "  [10 11]]\n",
      "\n",
      " [[12 13]\n",
      "  [14 15]\n",
      "  [16 17]]\n",
      "\n",
      " [[18 19]\n",
      "  [20 21]\n",
      "  [22 23]]]\n"
     ]
    }
   ],
   "source": [
    "#Reshape a 3D array of shape (2, 3, 4) to (4, 3, 2).\n",
    "\n",
    "array_3d = np.arange(24).reshape(2, 3, 4)  # Example array with shape (2, 3, 4)\n",
    "\n",
    "# Reshape the 3D array to (4, 3, 2)\n",
    "reshaped_array = array_3d.reshape(4, 3, 2)\n",
    "\n",
    "print(\"Reshaped array (4, 3, 2):\\n\", reshaped_array)\n"
   ]
  },
  {
   "cell_type": "code",
   "execution_count": 39,
   "id": "ca5c6dd2",
   "metadata": {},
   "outputs": [
    {
     "name": "stdout",
     "output_type": "stream",
     "text": [
      "2D array with 1 row and many columns:\n",
      " [[0 1 2 3 4 5 6 7 8 9]]\n"
     ]
    }
   ],
   "source": [
    "#Reshape a 1D array to a 2D array with 1 row and many columns.\n",
    "\n",
    "array_1d = np.arange(10)  # Example array: [0, 1, 2, 3, 4, 5, 6, 7, 8, 9]\n",
    "\n",
    "\n",
    "array_2d = array_1d.reshape(1, -1)\n",
    "\n",
    "print(\"2D array with 1 row and many columns:\\n\", array_2d)"
   ]
  },
  {
   "cell_type": "code",
   "execution_count": 40,
   "id": "87fcb25a",
   "metadata": {},
   "outputs": [
    {
     "name": "stdout",
     "output_type": "stream",
     "text": [
      "Element-wise division result:\n",
      " [0.5        0.75       0.83333333]\n"
     ]
    }
   ],
   "source": [
    "#Create two arrays: a = [1, 3, 5] and b = [2, 4, 6]. Perform element-wise division.\n",
    "\n",
    "a = np.array([1, 3, 5])\n",
    "b = np.array([2, 4, 6])\n",
    "\n",
    "# Perform element-wise division\n",
    "result = a / b\n",
    "\n",
    "print(\"Element-wise division result:\\n\", result)\n"
   ]
  },
  {
   "cell_type": "code",
   "execution_count": 41,
   "id": "5a30b19f",
   "metadata": {},
   "outputs": [
    {
     "name": "stdout",
     "output_type": "stream",
     "text": [
      "Element-wise modulus result:\n",
      " [0 1 1]\n"
     ]
    }
   ],
   "source": [
    "#Create two arrays: a = [2, 4, 6] and b = [1, 3, 5]. Perform element-wise modulus.\n",
    "\n",
    "a = np.array([2, 4, 6])\n",
    "b = np.array([1, 3, 5])\n",
    "\n",
    "# Perform element-wise modulus\n",
    "result = a % b\n",
    "\n",
    "print(\"Element-wise modulus result:\\n\", result)"
   ]
  },
  {
   "cell_type": "code",
   "execution_count": 42,
   "id": "1c75cbca",
   "metadata": {},
   "outputs": [
    {
     "name": "stdout",
     "output_type": "stream",
     "text": [
      "Array after adding 10:\n",
      " [11 12 13 14 15]\n"
     ]
    }
   ],
   "source": [
    "#Add 10 to each element in the array: a = [1, 2, 3, 4, 5].\n",
    "\n",
    "a = np.array([1, 2, 3, 4, 5])\n",
    "\n",
    "# Add 10 to each element\n",
    "result = a + 10\n",
    "\n",
    "print(\"Array after adding 10:\\n\", result)"
   ]
  },
  {
   "cell_type": "code",
   "execution_count": 43,
   "id": "d088891f",
   "metadata": {},
   "outputs": [
    {
     "name": "stdout",
     "output_type": "stream",
     "text": [
      "Array after subtracting 5:\n",
      " [ 5 15 25 35 45]\n"
     ]
    }
   ],
   "source": [
    "#Subtract 5 from each element in the array: b = [10, 20, 30, 40, 50].\n",
    "\n",
    "b = np.array([10, 20, 30, 40, 50])\n",
    "\n",
    "# Subtract 5 from each element\n",
    "result = b - 5\n",
    "\n",
    "print(\"Array after subtracting 5:\\n\", result)\n"
   ]
  },
  {
   "cell_type": "code",
   "execution_count": 44,
   "id": "aeb6550c",
   "metadata": {},
   "outputs": [
    {
     "name": "stdout",
     "output_type": "stream",
     "text": [
      "Array after squaring each element:\n",
      " [ 1  4  9 16 25]\n"
     ]
    }
   ],
   "source": [
    "#Square each element in the array: c = [1, 2, 3, 4, 5].\n",
    "\n",
    "c = np.array([1, 2, 3, 4, 5])\n",
    "\n",
    "# Square each element\n",
    "squared_result = c ** 2\n",
    "\n",
    "print(\"Array after squaring each element:\\n\", squared_result)\n"
   ]
  },
  {
   "cell_type": "code",
   "execution_count": 45,
   "id": "a87fbaeb",
   "metadata": {},
   "outputs": [
    {
     "name": "stdout",
     "output_type": "stream",
     "text": [
      "Element at [1, 1, 1]: 11\n"
     ]
    }
   ],
   "source": [
    "#Create a 3D array: array_3d = [[[1, 2, 3], [4, 5, 6]], [[7, 8, 9], [10, 11, 12]]]. Access the element at [1, 1, 1].\n",
    "\n",
    "array_3d = np.array([[[1, 2, 3], [4, 5, 6]],\n",
    "                     [[7, 8, 9], [10, 11, 12]]])\n",
    "\n",
    "element = array_3d[1, 1, 1]\n",
    "\n",
    "print(\"Element at [1, 1, 1]:\", element)"
   ]
  },
  {
   "cell_type": "code",
   "execution_count": 46,
   "id": "a7c7288a",
   "metadata": {},
   "outputs": [
    {
     "name": "stdout",
     "output_type": "stream",
     "text": [
      "Elements in the last row:\n",
      " [70 80 90]\n"
     ]
    }
   ],
   "source": [
    "#Access all elements in the last row of the array: array_2d = [[10, 20, 30], [40, 50, 60], [70, 80, 90]].\n",
    "\n",
    "array_2d = np.array([[10, 20, 30], [40, 50, 60], [70, 80, 90]])\n",
    "\n",
    "last_row = array_2d[-1]\n",
    "\n",
    "print(\"Elements in the last row:\\n\", last_row)"
   ]
  },
  {
   "cell_type": "code",
   "execution_count": 47,
   "id": "421010e5",
   "metadata": {},
   "outputs": [
    {
     "name": "stdout",
     "output_type": "stream",
     "text": [
      "Elements in the first column:\n",
      " [10 40 70]\n"
     ]
    }
   ],
   "source": [
    "#Access all elements in the first column of the array: array_2d = [[10, 20, 30], [40, 50, 60], [70, 80, 90]].\n",
    "\n",
    "array_2d = np.array([[10, 20, 30], [40, 50, 60], [70, 80, 90]])\n",
    "\n",
    "first_column = array_2d[:, 0]\n",
    "\n",
    "print(\"Elements in the first column:\\n\", first_column)\n",
    "     "
   ]
  },
  {
   "cell_type": "code",
   "execution_count": 48,
   "id": "4c434d57",
   "metadata": {},
   "outputs": [
    {
     "name": "stdout",
     "output_type": "stream",
     "text": [
      "Last two rows and columns:\n",
      " [[50 60]\n",
      " [80 90]]\n"
     ]
    }
   ],
   "source": [
    "#Slice the last two rows and columns of the array: array_2d = [[10, 20, 30], [40, 50, 60], [70, 80, 90]].\n",
    "\n",
    "array_2d = np.array([[10, 20, 30], [40, 50, 60], [70, 80, 90]])\n",
    "\n",
    "sliced_array = array_2d[-2:, -2:]\n",
    "\n",
    "print(\"Last two rows and columns:\\n\", sliced_array)"
   ]
  },
  {
   "cell_type": "code",
   "execution_count": 49,
   "id": "a23d23b8",
   "metadata": {},
   "outputs": [
    {
     "name": "stdout",
     "output_type": "stream",
     "text": [
      "Random array of 20 elements with values between 0 and 1:\n",
      " [0.08298304 0.13605754 0.78306999 0.99848562 0.98244914 0.56877521\n",
      " 0.06623637 0.572676   0.63500523 0.56029283 0.13938538 0.89739664\n",
      " 0.20904244 0.18577749 0.9644075  0.35625484 0.92800737 0.53407203\n",
      " 0.37791227 0.84287611]\n"
     ]
    }
   ],
   "source": [
    "#Generate a random array of 20 elements with values between 0 and 1.\n",
    "\n",
    "random_array = np.random.rand(20)\n",
    "\n",
    "print(\"Random array of 20 elements with values between 0 and 1:\\n\", random_array)"
   ]
  },
  {
   "cell_type": "code",
   "execution_count": 50,
   "id": "00a7084c",
   "metadata": {},
   "outputs": [
    {
     "name": "stdout",
     "output_type": "stream",
     "text": [
      "4x4 array with random integers between 10 and 20:\n",
      " [[10 18 16 17]\n",
      " [16 10 12 16]\n",
      " [12 16 13 11]\n",
      " [17 14 14 18]]\n"
     ]
    }
   ],
   "source": [
    "#Create a 4x4 array with random integers between 10 and 20.\n",
    "\n",
    "random_array = np.random.randint(10, 20, size=(4, 4))\n",
    "\n",
    "print(\"4x4 array with random integers between 10 and 20:\\n\", random_array)\n",
    "     "
   ]
  },
  {
   "cell_type": "code",
   "execution_count": 51,
   "id": "7b5bebf4",
   "metadata": {},
   "outputs": [
    {
     "name": "stdout",
     "output_type": "stream",
     "text": [
      "3x3 array with random floats between -1 and 1:\n",
      " [[-0.40476008  0.99555104  0.0512314 ]\n",
      " [ 0.27521654  0.01082398  0.65796532]\n",
      " [ 0.89933297  0.22600902  0.16872133]]\n"
     ]
    }
   ],
   "source": [
    "#Create a 3x3 array with random floats between -1 and 1.\n",
    "\n",
    "\n",
    "random_array = np.random.uniform(-1, 1, size=(3, 3))\n",
    "\n",
    "print(\"3x3 array with random floats between -1 and 1:\\n\", random_array)\n"
   ]
  },
  {
   "cell_type": "code",
   "execution_count": 52,
   "id": "d2a6769f",
   "metadata": {},
   "outputs": [
    {
     "name": "stdout",
     "output_type": "stream",
     "text": [
      "Array of 15 random integers between 100 and 200:\n",
      " [186 175 171 126 190 195 162 133 148 106 180 128 164 167 197]\n"
     ]
    }
   ],
   "source": [
    "#Generate an array of 15 random integers between 100 and 200.\n",
    "\n",
    "random_array = np.random.randint(100, 200, size=15)\n",
    "\n",
    "print(\"Array of 15 random integers between 100 and 200:\\n\", random_array)\n"
   ]
  },
  {
   "cell_type": "code",
   "execution_count": 53,
   "id": "da428c28",
   "metadata": {},
   "outputs": [
    {
     "name": "stdout",
     "output_type": "stream",
     "text": [
      "5x5 array with random floats between 0 and 10:\n",
      " [[6.1098995  5.86925014 0.96649713 5.91940115 8.85266755]\n",
      " [8.53235543 2.34697733 2.83318334 7.19614887 4.80516162]\n",
      " [4.16095688 5.79855307 8.22101627 7.99893181 8.41448884]\n",
      " [6.73062043 3.87467434 4.0384864  2.02321615 8.50649856]\n",
      " [8.09048168 5.09387378 4.39039473 5.60596416 6.60737135]]\n"
     ]
    }
   ],
   "source": [
    "#5. Create a 5x5 array with random floats between 0 and 10.\n",
    "\n",
    "random_array = np.random.uniform(0, 10, size=(5, 5))\n",
    "\n",
    "print(\"5x5 array with random floats between 0 and 10:\\n\", random_array)\n",
    "     "
   ]
  },
  {
   "cell_type": "code",
   "execution_count": 54,
   "id": "a081a2fa",
   "metadata": {},
   "outputs": [
    {
     "name": "stdout",
     "output_type": "stream",
     "text": [
      "Vertically stacked array:\n",
      " [[1 2]\n",
      " [3 4]\n",
      " [5 6]\n",
      " [7 8]]\n"
     ]
    }
   ],
   "source": [
    "#Vertically stack two arrays: a = [[1, 2], [3, 4]] and b = [[5, 6], [7, 8]].\n",
    "\n",
    "a = np.array([[1, 2], [3, 4]])\n",
    "b = np.array([[5, 6], [7, 8]])\n",
    "\n",
    "stacked_array = np.vstack((a, b))\n",
    "\n",
    "print(\"Vertically stacked array:\\n\", stacked_array)"
   ]
  },
  {
   "cell_type": "code",
   "execution_count": 56,
   "id": "21a21199",
   "metadata": {},
   "outputs": [
    {
     "name": "stdout",
     "output_type": "stream",
     "text": [
      "Horizontally stacked array:\n",
      " [[1 2 5 6]\n",
      " [3 4 7 8]]\n"
     ]
    }
   ],
   "source": [
    "#Horizontally stack two arrays: a = [[1, 2], [3, 4]] and b = [[5, 6], [7, 8]].\n",
    "\n",
    "a = np.array([[1, 2], [3, 4]])\n",
    "b = np.array([[5, 6], [7, 8]])\n",
    "\n",
    "stacked_array = np.hstack((a, b))\n",
    "\n",
    "print(\"Horizontally stacked array:\\n\", stacked_array)\n",
    "     \n"
   ]
  },
  {
   "cell_type": "code",
   "execution_count": 57,
   "id": "a9436464",
   "metadata": {},
   "outputs": [
    {
     "name": "stdout",
     "output_type": "stream",
     "text": [
      "Concatenated array:\n",
      " [1 2 3 4 5 6]\n"
     ]
    }
   ],
   "source": [
    "#Concatenate two 1D arrays: a = [1, 2, 3] and b = [4, 5, 6].\n",
    "\n",
    "a = np.array([1, 2, 3])\n",
    "b = np.array([4, 5, 6])\n",
    "\n",
    "concatenated_array = np.concatenate((a, b))\n",
    "\n",
    "print(\"Concatenated array:\\n\", concatenated_array)"
   ]
  },
  {
   "cell_type": "code",
   "execution_count": 58,
   "id": "bdd7b6a4",
   "metadata": {},
   "outputs": [
    {
     "name": "stdout",
     "output_type": "stream",
     "text": [
      "Concatenated array along rows:\n",
      " [[ 1  2  3]\n",
      " [ 4  5  6]\n",
      " [ 7  8  9]\n",
      " [10 11 12]\n",
      " [13 14 15]\n",
      " [16 17 18]]\n"
     ]
    }
   ],
   "source": [
    "#Concatenate two 3x3 arrays along rows: a = [[1, 2, 3], [4, 5, 6], [7, 8, 9]] and b = [[10, 11, 12], [13, 14, 15], [16, 17, 18]].\n",
    "\n",
    "a = np.array([[1, 2, 3], [4, 5, 6], [7, 8, 9]])\n",
    "b = np.array([[10, 11, 12], [13, 14, 15], [16, 17, 18]])\n",
    "\n",
    "concatenated_array = np.vstack((a, b))\n",
    "\n",
    "print(\"Concatenated array along rows:\\n\", concatenated_array)"
   ]
  },
  {
   "cell_type": "code",
   "execution_count": 59,
   "id": "b527c8bd",
   "metadata": {},
   "outputs": [
    {
     "name": "stdout",
     "output_type": "stream",
     "text": [
      "Concatenated array along columns:\n",
      " [[ 1  2  3 10 11 12]\n",
      " [ 4  5  6 13 14 15]\n",
      " [ 7  8  9 16 17 18]]\n"
     ]
    }
   ],
   "source": [
    "#Concatenate two 3x3 arrays along columns: a = [[1, 2, 3], [4, 5, 6], [7, 8, 9]] and b = [[10, 11, 12], [13, 14, 15], [16, 17, 18]].\n",
    "\n",
    "a = np.array([[1, 2, 3], [4, 5, 6], [7, 8, 9]])\n",
    "b = np.array([[10, 11, 12], [13, 14, 15], [16, 17, 18]])\n",
    "\n",
    "concatenated_array = np.hstack((a, b))\n",
    "\n",
    "print(\"Concatenated array along columns:\\n\", concatenated_array)\n",
    "     "
   ]
  },
  {
   "cell_type": "code",
   "execution_count": null,
   "id": "ca34fa40",
   "metadata": {},
   "outputs": [],
   "source": []
  }
 ],
 "metadata": {
  "kernelspec": {
   "display_name": "Python 3 (ipykernel)",
   "language": "python",
   "name": "python3"
  },
  "language_info": {
   "codemirror_mode": {
    "name": "ipython",
    "version": 3
   },
   "file_extension": ".py",
   "mimetype": "text/x-python",
   "name": "python",
   "nbconvert_exporter": "python",
   "pygments_lexer": "ipython3",
   "version": "3.10.0"
  }
 },
 "nbformat": 4,
 "nbformat_minor": 5
}
